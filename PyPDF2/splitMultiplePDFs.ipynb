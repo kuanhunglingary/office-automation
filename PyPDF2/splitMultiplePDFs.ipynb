{
 "cells": [
  {
   "cell_type": "markdown",
   "metadata": {},
   "source": [
    "### Install pypdf2 module\n",
    "pip install pypdf2"
   ]
  },
  {
   "cell_type": "markdown",
   "metadata": {},
   "source": [
    "1. Split the PDF file "
   ]
  },
  {
   "cell_type": "code",
   "execution_count": 20,
   "metadata": {},
   "outputs": [],
   "source": [
    "from PyPDF2 import PdfReader, PdfWriter\n",
    "# Get Info of Open PDF File\n",
    "file = open(\"mingKer20240509dm.pdf\",\"rb\")\n",
    "reader = PdfReader(file)\n",
    "\n",
    "def split(path, name_of_split):\n",
    "    pdf = PdfReader(path)\n",
    "    for page in range(len(pdf.pages)):\n",
    "        pdf_writer = PdfWriter()\n",
    "        pdf_writer.add_page(pdf.pages[page])\n",
    "\n",
    "        output = f'{name_of_split}{page}.pdf'\n",
    "        with open(output, 'wb') as output_pdf:\n",
    "            pdf_writer.write(output_pdf)\n",
    "\n",
    "if __name__ == '__main__':\n",
    "    path = 'mingKer20240509dm.pdf'\n",
    "    split(path, 'mingKer20240509dm')"
   ]
  },
  {
   "cell_type": "markdown",
   "metadata": {},
   "source": [
    "2. Combine the PDF files"
   ]
  },
  {
   "cell_type": "code",
   "execution_count": 2,
   "metadata": {},
   "outputs": [],
   "source": [
    "from PyPDF2 import PdfWriter\n",
    "\n",
    "merger = PdfWriter()\n",
    "\n",
    "for pdf in [\"mingKer20240509dm0.pdf\", \"mingKer20240509dm2.pdf\", \"mingKer20240509dm3.pdf\"]:\n",
    "    merger.append(pdf)\n",
    "\n",
    "merger.write(\"merged-pdf.pdf\")\n",
    "merger.close()"
   ]
  },
  {
   "cell_type": "markdown",
   "metadata": {},
   "source": [
    "3. Extract specific pages and then save as a new PDF file"
   ]
  },
  {
   "cell_type": "code",
   "execution_count": 21,
   "metadata": {},
   "outputs": [],
   "source": [
    "from PyPDF2 import PdfReader, PdfWriter\n",
    "pdf_file_path = 'C:\\\\Users\\\\yourName\\\\Desktop\\\\mingKer20240509dm.pdf'\n",
    "file_base_name = pdf_file_path.replace('.pdf', '')\n",
    "\n",
    "pdf = PdfReader(pdf_file_path)\n",
    "# print('reset this when starting a new pdf')\n",
    "pages = [0, 2, 4] # page 1, 3, 5\n",
    "pdfWriter = PdfWriter()\n",
    "\n",
    "for page_num in pages:\n",
    "    pdfWriter.add_page(pdf.pages[page_num])\n",
    "\n",
    "with open('{0}_new.pdf'.format(file_base_name), 'wb') as f:\n",
    "    pdfWriter.write(f)\n",
    "    f.close()"
   ]
  }
 ],
 "metadata": {
  "kernelspec": {
   "display_name": "base",
   "language": "python",
   "name": "python3"
  },
  "language_info": {
   "codemirror_mode": {
    "name": "ipython",
    "version": 3
   },
   "file_extension": ".py",
   "mimetype": "text/x-python",
   "name": "python",
   "nbconvert_exporter": "python",
   "pygments_lexer": "ipython3",
   "version": "3.12.2"
  }
 },
 "nbformat": 4,
 "nbformat_minor": 2
}
